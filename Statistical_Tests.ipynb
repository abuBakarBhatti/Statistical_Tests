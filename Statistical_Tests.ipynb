{
 "cells": [
  {
   "cell_type": "markdown",
   "metadata": {},
   "source": [
    "# Important Statistical Tests\n",
    "1. Shapiro Wilk Test\n"
   ]
  },
  {
   "cell_type": "markdown",
   "metadata": {},
   "source": [
    "## 1-Shapiro Wilk Test \n"
   ]
  },
  {
   "cell_type": "markdown",
   "metadata": {},
   "source": [
    "> This test is used to check the normality of the data. Or this tests is used to check the normalization of data.\n",
    "- We check the \"P\" value. If the \"P\" value is greater than 0.005 than the \"Null Hypothesis\" is true or we can say that data is normalized. If the \"P\" value is less that 0.005 than data is not normalized or \"Null Hypothesis\" is not true."
   ]
  },
  {
   "cell_type": "markdown",
   "metadata": {},
   "source": [
    "**What is normalized data?**\n",
    "- A data which creates Bell curve is called a normalize data. \n",
    "\n",
    "**How to check the normality of data via plots?**\n",
    "- We can check that via Histogram and Box Plots.\n",
    "\n"
   ]
  },
  {
   "cell_type": "markdown",
   "metadata": {},
   "source": [
    "#### Code for Shapiro test"
   ]
  },
  {
   "cell_type": "markdown",
   "metadata": {},
   "source": [
    "Example of Shapiro Test"
   ]
  },
  {
   "cell_type": "code",
   "execution_count": 5,
   "metadata": {},
   "outputs": [
    {
     "name": "stdout",
     "output_type": "stream",
     "text": [
      "Stats =  0.9017843008041382\n",
      "P =  0.19434091448783875\n",
      "Guassian/Normal Distribution is True\n"
     ]
    }
   ],
   "source": [
    "# importing libraries\n",
    "from scipy.stats import shapiro\n",
    "import seaborn as sn \n",
    "data = [.004, .873, 2.817, 0.121, -0.945, -0.055, -1.436, .360, -1.478, -1.637, -1.869] # dummy data\n",
    "stats, p = shapiro(data) # applying shapiro test on data and putting results into stats and p\n",
    "print(\"Stats = \", stats)\n",
    "print(\"P = \", p)\n",
    "if p > .005:\n",
    "    print(\"Guassian/Normal Distribution is True\") # prints if the normal distribution is true or we can say that our data is normalized\n",
    "else:\n",
    "    print(\"Guassian/Normal Distribution is not True\") # other situation \n"
   ]
  },
  {
   "cell_type": "markdown",
   "metadata": {},
   "source": []
  },
  {
   "cell_type": "markdown",
   "metadata": {},
   "source": [
    "Shapiro Test on Titanic Data"
   ]
  },
  {
   "cell_type": "code",
   "execution_count": 6,
   "metadata": {},
   "outputs": [],
   "source": [
    "# imporing libraries\n",
    "import pandas as pd\n",
    "import numpy as np\n",
    "import seaborn as sns\n",
    "import matplotlib.pyplot as plt\n",
    "\n",
    "# loading titanic data as ks\n",
    "ks = sns.load_dataset(\"titanic\")\n",
    "\n"
   ]
  },
  {
   "cell_type": "code",
   "execution_count": null,
   "metadata": {},
   "outputs": [],
   "source": []
  },
  {
   "cell_type": "code",
   "execution_count": 7,
   "metadata": {},
   "outputs": [
    {
     "data": {
      "text/plain": [
       "<AxesSubplot:>"
      ]
     },
     "execution_count": 7,
     "metadata": {},
     "output_type": "execute_result"
    },
    {
     "data": {
      "image/png": "[encoded data removed]",
      "text/plain": [
       "<Figure size 432x288 with 1 Axes>"
      ]
     },
     "metadata": {
      "needs_background": "light"
     },
     "output_type": "display_data"
    }
   ],
   "source": [
    "# Cheking Normalization of Data with Histogram\n",
    "ks[\"age\"].hist()\n"
   ]
  },
  {
   "cell_type": "code",
   "execution_count": 9,
   "metadata": {},
   "outputs": [
    {
     "data": {
      "text/plain": [
       "<AxesSubplot:xlabel='age'>"
      ]
     },
     "execution_count": 9,
     "metadata": {},
     "output_type": "execute_result"
    },
    {
     "data": {
      "image/png": "[encoded data removed]",
      "text/plain": [
       "<Figure size 432x288 with 1 Axes>"
      ]
     },
     "metadata": {
      "needs_background": "light"
     },
     "output_type": "display_data"
    }
   ],
   "source": [
    "# Cheking Normalization of Data with Histogram\n",
    "sns.boxplot(ks[\"age\"])"
   ]
  },
  {
   "cell_type": "markdown",
   "metadata": {},
   "source": [
    "In above plots, \n",
    "Histogram: We are not sure k Bell Curve ban rahi hai ya nai Q k right side say to ban rahi hai but from the left side we are not sure.\n",
    "BoxPlot: Jo median hai wo left side per ziada hai but slightly hai. Still we are not sure whether it is normalized or not.\n",
    "\n",
    "**Only solution is to apply Shapiro Test**"
   ]
  },
  {
   "cell_type": "code",
   "execution_count": 10,
   "metadata": {},
   "outputs": [
    {
     "name": "stdout",
     "output_type": "stream",
     "text": [
      "Stats =  nan\n",
      "P =  1.0\n",
      "Guassian/Normal Distribution is True\n"
     ]
    }
   ],
   "source": [
    "# applying shapiro test on the ks[\"age\"] data\n",
    "from scipy.stats import shapiro\n",
    "stats, p = shapiro(ks[\"age\"]) # applying shapiro test on ks[\"age\"] and putting results into stats and p\n",
    "print(\"Stats = \", stats)\n",
    "print(\"P = \", p)\n",
    "if p > .005:\n",
    "    print(\"Guassian/Normal Distribution is True\") # prints if the normal distribution is true or we can say that our data is normalized\n",
    "else:\n",
    "    print(\"Guassian/Normal Distribution is not True\") # other situation \n"
   ]
  },
  {
   "cell_type": "markdown",
   "metadata": {},
   "source": [
    "Lets remove null values from the age and let see if still the data is normalized or not"
   ]
  },
  {
   "cell_type": "code",
   "execution_count": 11,
   "metadata": {},
   "outputs": [
    {
     "name": "stdout",
     "output_type": "stream",
     "text": [
      "Stats =  0.9906661510467529\n",
      "P =  0.28414419293403625\n",
      "Guassian/Normal Distribution is True\n"
     ]
    }
   ],
   "source": [
    "# applying shapiro test on the ks[\"age\"] data\n",
    "from scipy.stats import shapiro\n",
    "ks = ks.dropna() # removing all the null values from the age column\n",
    "stats, p = shapiro(ks[\"age\"]) # applying shapiro test on ks[\"age\"] and putting results into stats and p\n",
    "print(\"Stats = \", stats)\n",
    "print(\"P = \", p)\n",
    "if p > .005:\n",
    "    print(\"Guassian/Normal Distribution is True\") # prints if the normal distribution is true or we can say that our data is normalized\n",
    "else:\n",
    "    print(\"Guassian/Normal Distribution is not True\") # other situation "
   ]
  },
  {
   "cell_type": "markdown",
   "metadata": {},
   "source": [
    "Still the test result is positive, it means that data is normal.\n",
    "let's check now with the help of box plot and histogram\n"
   ]
  },
  {
   "cell_type": "code",
   "execution_count": 13,
   "metadata": {},
   "outputs": [
    {
     "name": "stderr",
     "output_type": "stream",
     "text": [
      "c:\\Users\\Hamza\\AppData\\Local\\Programs\\Python\\Python310\\lib\\site-packages\\seaborn\\_decorators.py:36: FutureWarning: Pass the following variable as a keyword arg: x. From version 0.12, the only valid positional argument will be `data`, and passing other arguments without an explicit keyword will result in an error or misinterpretation.\n",
      "  warnings.warn(\n"
     ]
    },
    {
     "data": {
      "text/plain": [
       "<AxesSubplot:xlabel='age'>"
      ]
     },
     "execution_count": 13,
     "metadata": {},
     "output_type": "execute_result"
    },
    {
     "data": {
      "image/png": "[encoded data removed]",
      "text/plain": [
       "<Figure size 432x288 with 1 Axes>"
      ]
     },
     "metadata": {
      "needs_background": "light"
     },
     "output_type": "display_data"
    }
   ],
   "source": [
    "sns.boxplot(ks[\"age\"])"
   ]
  },
  {
   "cell_type": "code",
   "execution_count": 14,
   "metadata": {},
   "outputs": [
    {
     "data": {
      "text/plain": [
       "<AxesSubplot:>"
      ]
     },
     "execution_count": 14,
     "metadata": {},
     "output_type": "execute_result"
    },
    {
     "data": {
      "image/png": "[encoded data removed]",
      "text/plain": [
       "<Figure size 432x288 with 1 Axes>"
      ]
     },
     "metadata": {
      "needs_background": "light"
     },
     "output_type": "display_data"
    }
   ],
   "source": [
    "ks[\"age\"].hist()"
   ]
  },
  {
   "cell_type": "markdown",
   "metadata": {},
   "source": [
    "We can clearly see the difference between the new and previous graphs."
   ]
  }
 ],
 "metadata": {
  "interpreter": {
   "hash": "09027da650f38ba7236ad064b542871ad48182107e90fa836c288587285bdc63"
  },
  "kernelspec": {
   "display_name": "Python 3.10.4 64-bit",
   "language": "python",
   "name": "python3"
  },
  "language_info": {
   "codemirror_mode": {
    "name": "ipython",
    "version": 3
   },
   "file_extension": ".py",
   "mimetype": "text/x-python",
   "name": "python",
   "nbconvert_exporter": "python",
   "pygments_lexer": "ipython3",
   "version": "3.10.4"
  },
  "orig_nbformat": 4
 },
 "nbformat": 4,
 "nbformat_minor": 2
}
